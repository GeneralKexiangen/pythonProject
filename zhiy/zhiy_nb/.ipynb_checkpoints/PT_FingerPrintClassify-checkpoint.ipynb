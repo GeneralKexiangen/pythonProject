{
 "cells": [
  {
   "cell_type": "code",
   "execution_count": 1,
   "id": "ffa15493",
   "metadata": {},
   "outputs": [
    {
     "name": "stdout",
     "output_type": "stream",
     "text": [
      "L, (640, 480), TIFF\n"
     ]
    }
   ],
   "source": [
    "from PIL import Image\n",
    "imgpath='/Users/zhiyue/Downloads/DB1_B/110_8.tif'\n",
    "img=Image.open(imgpath)\n",
    "print('%s, %s, %s' % (img.mode, img.size, img.format))\n",
    "img.show()"
   ]
  },
  {
   "cell_type": "code",
   "execution_count": 5,
   "id": "e1a87a12",
   "metadata": {},
   "outputs": [],
   "source": [
    "import numpy as np\n",
    "imgs =np.array(img)"
   ]
  },
  {
   "cell_type": "code",
   "execution_count": 11,
   "id": "26c8b373",
   "metadata": {},
   "outputs": [],
   "source": [
    "from PIL import Image\n",
    "f = open(\"o.txt\", 'w+')  \n",
    "im = Image.open('/Users/zhiyue/Downloads/DB1_B/110_8.tif')\n",
    "rgb_im = im.convert('RGB')\n",
    "for i in range(256):\n",
    "    for j in range(256):\n",
    "        r, g, b = rgb_im.getpixel((i, j))\n",
    "        print(r, g, b,file=f)"
   ]
  },
  {
   "cell_type": "code",
   "execution_count": null,
   "id": "c81e598c",
   "metadata": {},
   "outputs": [],
   "source": []
  }
 ],
 "metadata": {
  "kernelspec": {
   "display_name": "Python 3 (ipykernel)",
   "language": "python",
   "name": "python3"
  },
  "language_info": {
   "codemirror_mode": {
    "name": "ipython",
    "version": 3
   },
   "file_extension": ".py",
   "mimetype": "text/x-python",
   "name": "python",
   "nbconvert_exporter": "python",
   "pygments_lexer": "ipython3",
   "version": "3.7.11"
  }
 },
 "nbformat": 4,
 "nbformat_minor": 5
}
