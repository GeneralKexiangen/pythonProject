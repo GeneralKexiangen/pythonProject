{
 "cells": [
  {
   "cell_type": "code",
   "execution_count": 1,
   "metadata": {},
   "outputs": [
    {
     "data": {
      "text/plain": [
       "Index(['yr_modahrmn', 'message_type', 'speed', 'vehicle_state',\n",
       "       'charging_status', 'total_volt', 'total_current', 'mileage',\n",
       "       'standard_soc', 'max_cell_volt', 'max_volt_cell_id', 'min_cell_volt',\n",
       "       'min_cell_volt_id', 'max_temp', 'max_temp_probe_id', 'min_temp',\n",
       "       'min_temp_probe_id', 'max_alarm_lvl', 'gen_alarm_sign',\n",
       "       'bat_fault_list', 'isulate_r', 'dcdc_stat', 'sing_temp_num', 'gear',\n",
       "       'tag'],\n",
       "      dtype='object')"
      ]
     },
     "execution_count": 1,
     "metadata": {},
     "output_type": "execute_result"
    }
   ],
   "source": [
    "import pandas as pd\n",
    "import warnings\n",
    "warnings.filterwarnings(\"ignore\")\n",
    "\n",
    "dataset = pd.read_csv('data.csv')\n",
    "dataset.dropna(inplace=True)\n",
    "dataset.columns"
   ]
  },
  {
   "cell_type": "markdown",
   "metadata": {},
   "source": [
    "### 确定因变量和自变量"
   ]
  },
  {
   "cell_type": "code",
   "execution_count": 2,
   "metadata": {},
   "outputs": [],
   "source": [
    "x = ['speed', 'vehicle_state',\n",
    "       'charging_status', 'total_volt', 'total_current', 'mileage',\n",
    "       'standard_soc', 'max_cell_volt', 'max_volt_cell_id', 'min_cell_volt',\n",
    "       'min_cell_volt_id', 'max_temp', 'max_temp_probe_id', 'min_temp',\n",
    "       'min_temp_probe_id', 'max_alarm_lvl', 'gen_alarm_sign',\n",
    "       'bat_fault_list', 'isulate_r', 'dcdc_stat', 'sing_temp_num', 'gear']\n",
    "\n",
    "y = ['tag']"
   ]
  },
  {
   "cell_type": "markdown",
   "metadata": {},
   "source": [
    "### 总模型得分"
   ]
  },
  {
   "cell_type": "code",
   "execution_count": 3,
   "metadata": {
    "scrolled": true
   },
   "outputs": [
    {
     "name": "stdout",
     "output_type": "stream",
     "text": [
      "[15:56:43] WARNING: C:/Users/Administrator/workspace/xgboost-win64_release_1.5.0/src/learner.cc:1115: Starting in XGBoost 1.3.0, the default evaluation metric used with the objective 'multi:softprob' was changed from 'merror' to 'mlogloss'. Explicitly set eval_metric if you'd like to restore the old behavior.\n"
     ]
    },
    {
     "data": {
      "image/png": "[encoded data removed]",
      "text/plain": [
       "<Figure size 1152x576 with 1 Axes>"
      ]
     },
     "metadata": {
      "needs_background": "light"
     },
     "output_type": "display_data"
    }
   ],
   "source": [
    "from sklearn.preprocessing import StandardScaler\n",
    "from sklearn.svm import SVC\n",
    "from xgboost import XGBClassifier\n",
    "from sklearn.model_selection import train_test_split\n",
    "from sklearn.metrics import accuracy_score,f1_score,recall_score,precision_score\n",
    "\n",
    "#指标计算函数\n",
    "data= dataset.copy()\n",
    "\n",
    "#划分训练测试集\n",
    "xtrain, xtest, ytrain, ytest = train_test_split(data[x].values,data[y].values,\n",
    "                                                  random_state=42, \n",
    "                                                  test_size=0.2)\n",
    "svc = SVC()\n",
    "svc.fit(xtrain,ytrain)\n",
    "pred = svc.predict(xtrain)\n",
    "pred_test = svc.predict(xtest)\n",
    "data['tag_svm_pred'] = svc.predict(data[x].values)\n",
    "#SVM训练集\n",
    "svm_train = []\n",
    "svm_train.append(f'{accuracy_score(ytrain,pred)}')\n",
    "svm_train.append('{}'.format(precision_score(ytrain,pred,average='micro')))\n",
    "svm_train.append('{}'.format(recall_score(ytrain,pred,average='micro')))\n",
    "svm_train.append('{}'.format(f1_score(ytrain,pred,average='micro')))\n",
    "#SVM测试集\n",
    "svm_test = []\n",
    "svm_test.append(f'{accuracy_score(ytest,pred_test)}')\n",
    "svm_test.append('{}'.format(precision_score(ytest,pred_test,average='micro')))\n",
    "svm_test.append('{}'.format(recall_score(ytest,pred_test,average='micro')))\n",
    "svm_test.append('{}'.format(f1_score(ytest,pred_test,average='micro')))\n",
    "\n",
    "svc = XGBClassifier()\n",
    "svc.fit(xtrain,ytrain)\n",
    "pred = svc.predict(xtrain)\n",
    "pred_test = svc.predict(xtest)\n",
    "data['tag_xgb_pred'] = svc.predict(data[x].values)\n",
    "#xgb训练集\n",
    "xgb_train = []\n",
    "xgb_train.append(f'{accuracy_score(ytrain,pred)}')\n",
    "xgb_train.append('{}'.format(precision_score(ytrain,pred,average='micro')))\n",
    "xgb_train.append('{}'.format(recall_score(ytrain,pred,average='micro')))\n",
    "xgb_train.append('{}'.format(f1_score(ytrain,pred,average='micro')))\n",
    "#xgb测试集\n",
    "xgb_test = []\n",
    "xgb_test.append(f'{accuracy_score(ytest,pred_test)}')\n",
    "xgb_test.append('{}'.format(precision_score(ytest,pred_test,average='micro')))\n",
    "xgb_test.append('{}'.format(recall_score(ytest,pred_test,average='micro')))\n",
    "xgb_test.append('{}'.format(f1_score(ytest,pred_test,average='micro')))\n",
    "\n",
    "result = pd.DataFrame({'svm_train':svm_train,'svm_test':svm_test,'xgb_train':xgb_train,'xgb_test':xgb_test},index=['accuracy','precision','recall','f1_score'])\n",
    "\n",
    "import pandas as pd\n",
    "import matplotlib.pyplot as plt\n",
    "import numpy as np\n",
    "\n",
    "#构造数据\n",
    "y1 = result.svm_train.values\n",
    "y2 = result.xgb_train.values\n",
    "xx = np.arange(len(y1))\n",
    "xx = xx*2\n",
    "#设置柱状图的宽度\n",
    "width = 0.5\n",
    "\n",
    "#绘图\n",
    "plt.figure(figsize=(16,8))\n",
    "\n",
    "plt.bar(x=xx,height=y1.astype('float16'),width=width,label='SVM')\n",
    "plt.bar(x=xx+width,height=y2.astype('float16'),width=width,label='xgb')\n",
    "\n",
    "\n",
    "#添加图标题和图例\n",
    "plt.rcParams[\"font.sans-serif\"] = [\"SimHei\"]\n",
    "plt.rcParams[\"axes.unicode_minus\"] = False\n",
    "plt.xticks(xx+width*0.5,['accuracy','precision','recall','f1_score'])\n",
    "plt.legend(fontsize=15)\n",
    "plt.savefig('整个模型对比图.png',dpi=500)\n",
    "plt.tick_params(labelsize=15)\n",
    "plt.show()"
   ]
  },
  {
   "cell_type": "markdown",
   "metadata": {},
   "source": [
    "### charging_status得分"
   ]
  },
  {
   "cell_type": "code",
   "execution_count": 6,
   "metadata": {
    "scrolled": true
   },
   "outputs": [
    {
     "name": "stdout",
     "output_type": "stream",
     "text": [
      "[16:00:11] WARNING: C:/Users/Administrator/workspace/xgboost-win64_release_1.5.0/src/learner.cc:1115: Starting in XGBoost 1.3.0, the default evaluation metric used with the objective 'binary:logistic' was changed from 'error' to 'logloss'. Explicitly set eval_metric if you'd like to restore the old behavior.\n",
      "[16:00:19] WARNING: C:/Users/Administrator/workspace/xgboost-win64_release_1.5.0/src/learner.cc:1115: Starting in XGBoost 1.3.0, the default evaluation metric used with the objective 'multi:softprob' was changed from 'merror' to 'mlogloss'. Explicitly set eval_metric if you'd like to restore the old behavior.\n",
      "[16:00:20] WARNING: C:/Users/Administrator/workspace/xgboost-win64_release_1.5.0/src/learner.cc:1115: Starting in XGBoost 1.3.0, the default evaluation metric used with the objective 'multi:softprob' was changed from 'merror' to 'mlogloss'. Explicitly set eval_metric if you'd like to restore the old behavior.\n"
     ]
    },
    {
     "data": {
      "image/png": "[encoded data removed]",
      "text/plain": [
       "<Figure size 1800x504 with 3 Axes>"
      ]
     },
     "metadata": {
      "needs_background": "light"
     },
     "output_type": "display_data"
    }
   ],
   "source": [
    "from sklearn.preprocessing import StandardScaler\n",
    "from sklearn.svm import SVC\n",
    "from xgboost import XGBClassifier\n",
    "from sklearn.model_selection import train_test_split\n",
    "from sklearn.metrics import accuracy_score,f1_score,recall_score,precision_score\n",
    "svm_train = []\n",
    "svm_test = []\n",
    "xgb_train = []\n",
    "xgb_test = []\n",
    "value = []\n",
    "ind = []\n",
    "for i in dataset['charging_status'].drop_duplicates().sort_values():\n",
    "    data = dataset[dataset.charging_status==i]\n",
    "    data.loc[data.index[0],'tag'] = 'D'\n",
    "    for o in range(4):\n",
    "        value.append(i)\n",
    "    #划分训练测试集\n",
    "    xtrain, xtest, ytrain, ytest = train_test_split(data[x].values,data[y].values,\n",
    "                                                      random_state=50, \n",
    "                                                      test_size=0.2)\n",
    "    svc = SVC()\n",
    "    svc.fit(xtrain,ytrain)\n",
    "    pred = svc.predict(xtrain)\n",
    "    pred_test = svc.predict(xtest)\n",
    "    data['tag_svm_pred'] = svc.predict(data[x].values)\n",
    "    #SVM训练集\n",
    "    svm_train.append(f'{accuracy_score(ytrain,pred)}')\n",
    "    svm_train.append('{}'.format(precision_score(ytrain,pred,average='micro')))\n",
    "    svm_train.append('{}'.format(recall_score(ytrain,pred,average='micro')))\n",
    "    svm_train.append('{}'.format(f1_score(ytrain,pred,average='micro')))\n",
    "    #SVM测试集\n",
    "    svm_test.append(f'{accuracy_score(ytest,pred_test)}')\n",
    "    svm_test.append('{}'.format(precision_score(ytest,pred_test,average='micro')))\n",
    "    svm_test.append('{}'.format(recall_score(ytest,pred_test,average='micro')))\n",
    "    svm_test.append('{}'.format(f1_score(ytest,pred_test,average='micro')))\n",
    "\n",
    "    svc = XGBClassifier()\n",
    "    svc.fit(xtrain,ytrain)\n",
    "    pred = svc.predict(xtrain)\n",
    "    pred_test = svc.predict(xtest)\n",
    "    data['tag_xgb_pred'] = svc.predict(data[x].values)\n",
    "    #xgb训练集\n",
    "    xgb_train.append(f'{accuracy_score(ytrain,pred)}')\n",
    "    xgb_train.append('{}'.format(precision_score(ytrain,pred,average='micro')))\n",
    "    xgb_train.append('{}'.format(recall_score(ytrain,pred,average='micro')))\n",
    "    xgb_train.append('{}'.format(f1_score(ytrain,pred,average='micro')))\n",
    "    #xgb测试集\n",
    "    xgb_test.append(f'{accuracy_score(ytest,pred_test)}')\n",
    "    xgb_test.append('{}'.format(precision_score(ytest,pred_test,average='micro')))\n",
    "    xgb_test.append('{}'.format(recall_score(ytest,pred_test,average='micro')))\n",
    "    xgb_test.append('{}'.format(f1_score(ytest,pred_test,average='micro')))\n",
    "\n",
    "    for i in ['accuracy','precision','recall','f1_score']:\n",
    "        ind.append(i)\n",
    "result = pd.DataFrame({'name':ind,'value':value,'svm_train':svm_train,'svm_test':svm_test,'xgb_train':xgb_train,'xgb_test':xgb_test})\n",
    "f,[ax1, ax2, ax3] = plt.subplots(1,3,figsize=(25,7))\n",
    "#构造数据\n",
    "y1 = result[result.value==1].svm_train.values\n",
    "y2 = result[result.value==1].xgb_train.values\n",
    "xx = np.arange(len(y1))\n",
    "xx = xx*2\n",
    "#设置柱状图的宽度\n",
    "width = 0.5\n",
    "\n",
    "ax1.bar(x=xx,height=y1.astype('float16'),width=width,label='SVM')\n",
    "ax1.bar(x=xx+width,height=y2.astype('float16'),width=width,label='xgb')\n",
    "ax1.set_xticks(xx+width*0.5) # 设置刻度\n",
    "ax1.set_xticklabels(['accuracy','precision','recall','f1_score']) # 设置刻度标签\n",
    "ax1.tick_params(labelsize=15)\n",
    "ax1.legend(fontsize='17')\n",
    "ax1.set_title(f'charging status=1', fontsize=18)\n",
    "\n",
    "#构造数据\n",
    "y1 = result[result.value==3].svm_train.values\n",
    "y2 = result[result.value==3].xgb_train.values\n",
    "xx = np.arange(len(y1))\n",
    "xx = xx*2\n",
    "#设置柱状图的宽度\n",
    "width = 0.5\n",
    "\n",
    "ax2.bar(x=xx,height=y1.astype('float16'),width=width,label='SVM')\n",
    "ax2.bar(x=xx+width,height=y2.astype('float16'),width=width,label='xgb')\n",
    "ax2.set_xticks(xx+width*0.5) # 设置刻度\n",
    "ax2.set_xticklabels(['accuracy','precision','recall','f1_score']) # 设置刻度标签\n",
    "ax2.tick_params(labelsize=15)\n",
    "ax2.legend(fontsize='17')\n",
    "ax2.set_title(f'charging status=3', fontsize=18)\n",
    "\n",
    "#构造数据\n",
    "y1 = result[result.value==4].svm_train.values\n",
    "y2 = result[result.value==4].xgb_train.values\n",
    "xx = np.arange(len(y1))\n",
    "xx = xx*2\n",
    "#设置柱状图的宽度\n",
    "width = 0.5\n",
    "\n",
    "ax3.bar(x=xx,height=y1.astype('float16'),width=width,label='SVM')\n",
    "ax3.bar(x=xx+width,height=y2.astype('float16'),width=width,label='xgb')\n",
    "ax3.set_xticks(xx+width*0.5) # 设置刻度\n",
    "ax3.set_xticklabels(['accuracy','precision','recall','f1_score']) # 设置刻度标签\n",
    "ax3.tick_params(labelsize=15)\n",
    "ax3.legend(fontsize='17')\n",
    "ax3.set_title(f'charging status=4', fontsize=18)\n",
    "plt.savefig('harging status.png',dpi=500)"
   ]
  },
  {
   "cell_type": "markdown",
   "metadata": {},
   "source": [
    "### vehicle_state得分"
   ]
  },
  {
   "cell_type": "code",
   "execution_count": 5,
   "metadata": {},
   "outputs": [
    {
     "name": "stdout",
     "output_type": "stream",
     "text": [
      "[15:59:34] WARNING: C:/Users/Administrator/workspace/xgboost-win64_release_1.5.0/src/learner.cc:1115: Starting in XGBoost 1.3.0, the default evaluation metric used with the objective 'multi:softprob' was changed from 'merror' to 'mlogloss'. Explicitly set eval_metric if you'd like to restore the old behavior.\n",
      "[15:59:46] WARNING: C:/Users/Administrator/workspace/xgboost-win64_release_1.5.0/src/learner.cc:1115: Starting in XGBoost 1.3.0, the default evaluation metric used with the objective 'multi:softprob' was changed from 'merror' to 'mlogloss'. Explicitly set eval_metric if you'd like to restore the old behavior.\n"
     ]
    },
    {
     "data": {
      "image/png": "[encoded data removed]",
      "text/plain": [
       "<Figure size 1800x504 with 2 Axes>"
      ]
     },
     "metadata": {
      "needs_background": "light"
     },
     "output_type": "display_data"
    }
   ],
   "source": [
    "from sklearn.preprocessing import StandardScaler\n",
    "from sklearn.svm import SVC\n",
    "from xgboost import XGBClassifier\n",
    "from sklearn.model_selection import train_test_split\n",
    "from sklearn.metrics import accuracy_score,f1_score,recall_score,precision_score\n",
    "svm_train = []\n",
    "svm_test = []\n",
    "xgb_train = []\n",
    "xgb_test = []\n",
    "value = []\n",
    "ind = []\n",
    "for i in dataset['vehicle_state'].drop_duplicates().sort_values():\n",
    "    data = dataset[dataset.vehicle_state==i]\n",
    "    data.loc[data.index[0],'tag'] = 'D'\n",
    "    for o in range(4):\n",
    "        value.append(i)\n",
    "    #划分训练测试集\n",
    "    xtrain, xtest, ytrain, ytest = train_test_split(data[x].values,data[y].values,\n",
    "                                                      random_state=42, \n",
    "                                                      test_size=0.2)\n",
    "    svc = SVC()\n",
    "    svc.fit(xtrain,ytrain)\n",
    "    pred = svc.predict(xtrain)\n",
    "    pred_test = svc.predict(xtest)\n",
    "    data['tag_svm_pred'] = svc.predict(data[x].values)\n",
    "    #SVM训练集\n",
    "    svm_train.append(f'{accuracy_score(ytrain,pred)}')\n",
    "    svm_train.append('{}'.format(precision_score(ytrain,pred,average='micro')))\n",
    "    svm_train.append('{}'.format(recall_score(ytrain,pred,average='micro')))\n",
    "    svm_train.append('{}'.format(f1_score(ytrain,pred,average='micro')))\n",
    "    #SVM测试集\n",
    "    svm_test.append(f'{accuracy_score(ytest,pred_test)}')\n",
    "    svm_test.append('{}'.format(precision_score(ytest,pred_test,average='micro')))\n",
    "    svm_test.append('{}'.format(recall_score(ytest,pred_test,average='micro')))\n",
    "    svm_test.append('{}'.format(f1_score(ytest,pred_test,average='micro')))\n",
    "\n",
    "    svc = XGBClassifier()\n",
    "    svc.fit(xtrain,ytrain)\n",
    "    pred = svc.predict(xtrain)\n",
    "    pred_test = svc.predict(xtest)\n",
    "    data['tag_xgb_pred'] = svc.predict(data[x].values)\n",
    "    #xgb训练集\n",
    "    xgb_train.append(f'{accuracy_score(ytrain,pred)}')\n",
    "    xgb_train.append('{}'.format(precision_score(ytrain,pred,average='micro')))\n",
    "    xgb_train.append('{}'.format(recall_score(ytrain,pred,average='micro')))\n",
    "    xgb_train.append('{}'.format(f1_score(ytrain,pred,average='micro')))\n",
    "    #xgb测试集\n",
    "    xgb_test.append(f'{accuracy_score(ytest,pred_test)}')\n",
    "    xgb_test.append('{}'.format(precision_score(ytest,pred_test,average='micro')))\n",
    "    xgb_test.append('{}'.format(recall_score(ytest,pred_test,average='micro')))\n",
    "    xgb_test.append('{}'.format(f1_score(ytest,pred_test,average='micro')))\n",
    "\n",
    "    for i in ['accuracy','precision','recall','f1_score']:\n",
    "        ind.append(i)\n",
    "result = pd.DataFrame({'name':ind,'value':value,'svm_train':svm_train,'svm_test':svm_test,'xgb_train':xgb_train,'xgb_test':xgb_test})\n",
    "f,[ax1, ax2] = plt.subplots(1,2,figsize=(25,7))\n",
    "#构造数据\n",
    "y1 = result[result.value==1].svm_train.values\n",
    "y2 = result[result.value==1].xgb_train.values\n",
    "xx = np.arange(len(y1))\n",
    "xx = xx*2\n",
    "#设置柱状图的宽度\n",
    "width = 0.5\n",
    "\n",
    "ax1.bar(x=xx,height=y1.astype('float16'),width=width,label='SVM')\n",
    "ax1.bar(x=xx+width,height=y2.astype('float16'),width=width,label='xgb')\n",
    "ax1.set_xticks(xx+width*0.5) # 设置刻度\n",
    "ax1.set_xticklabels(['accuracy','precision','recall','f1_score']) # 设置刻度标签\n",
    "ax1.tick_params(labelsize=15)\n",
    "ax1.legend(fontsize='17')\n",
    "ax1.set_title(f'vehicle state=1', fontsize=18)\n",
    "\n",
    "#构造数据\n",
    "y1 = result[result.value==2].svm_train.values\n",
    "y2 = result[result.value==2].xgb_train.values\n",
    "xx = np.arange(len(y1))\n",
    "xx = xx*2\n",
    "#设置柱状图的宽度\n",
    "width = 0.5\n",
    "\n",
    "ax2.bar(x=xx,height=y1.astype('float16'),width=width,label='SVM')\n",
    "ax2.bar(x=xx+width,height=y2.astype('float16'),width=width,label='xgb')\n",
    "ax2.set_xticks(xx+width*0.5) # 设置刻度\n",
    "ax2.set_xticklabels(['accuracy','precision','recall','f1_score']) # 设置刻度标签\n",
    "ax2.tick_params(labelsize=15)\n",
    "ax2.legend(fontsize='17')\n",
    "ax2.set_title(f'vehicle state=2', fontsize=18)\n",
    "plt.savefig('vehicle_state.png',dpi=500)"
   ]
  },
  {
   "cell_type": "code",
   "execution_count": null,
   "metadata": {},
   "outputs": [],
   "source": []
  }
 ],
 "metadata": {
  "kernelspec": {
   "display_name": "Python 3 (ipykernel)",
   "language": "python",
   "name": "python3"
  },
  "language_info": {
   "codemirror_mode": {
    "name": "ipython",
    "version": 3
   },
   "file_extension": ".py",
   "mimetype": "text/x-python",
   "name": "python",
   "nbconvert_exporter": "python",
   "pygments_lexer": "ipython3",
   "version": "3.7.11"
  }
 },
 "nbformat": 4,
 "nbformat_minor": 4
}
